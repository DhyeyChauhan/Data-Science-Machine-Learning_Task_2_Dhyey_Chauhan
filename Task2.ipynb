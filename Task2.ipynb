{
 "cells": [
  {
   "cell_type": "code",
   "execution_count": 3,
   "id": "08940f07-8774-4ea5-ad28-ffdbd12310f3",
   "metadata": {},
   "outputs": [
    {
     "name": "stdout",
     "output_type": "stream",
     "text": [
      "Eigenvalues:\n",
      "[ 4.98697129+0.j         -0.39694006+1.8538429j  -0.39694006-1.8538429j\n",
      "  0.46385553+1.77776389j  0.46385553-1.77776389j]\n",
      "\n",
      "Eigenvectors:\n",
      "[[-0.02970452+0.j         -0.03251682+0.00661095j -0.03251682-0.00661095j\n",
      "   0.00471134-0.0195778j   0.00471134+0.0195778j ]\n",
      " [-0.04203003+0.j          0.02353931-0.01146282j  0.02353931+0.01146282j\n",
      "   0.08582142+0.0228406j   0.08582142-0.0228406j ]\n",
      " [-0.02414964+0.j          0.02862257+0.00335417j  0.02862257-0.00335417j\n",
      "  -0.01433236+0.01767667j -0.01433236-0.01767667j]\n",
      " ...\n",
      " [-0.04450809+0.j          0.00801364+0.02654659j  0.00801364-0.02654659j\n",
      "  -0.01412817-0.06659522j -0.01412817+0.06659522j]\n",
      " [-0.04171196+0.j         -0.0083271 -0.02480487j -0.0083271 +0.02480487j\n",
      "   0.04093555-0.02598252j  0.04093555+0.02598252j]\n",
      " [-0.01673231+0.j          0.00741732+0.00058722j  0.00741732-0.00058722j\n",
      "  -0.0146172 -0.00437585j -0.0146172 +0.00437585j]]\n"
     ]
    }
   ],
   "source": [
    "#Calculate the eigenvalues and eigenvectors of a large sparse matrix using numpy's sparse matrix handling.\n",
    "import numpy as np\n",
    "from scipy.sparse import random\n",
    "from scipy.sparse.linalg import eigs\n",
    "\n",
    "# Create a large sparse matrix\n",
    "size = 1000  # Define the size of the square matrix\n",
    "density = 0.01  # Define the density of the sparse matrix\n",
    "sparse_matrix = random(size, size, density=density, format='csr')\n",
    "\n",
    "# Calculate the eigenvalues and eigenvectors\n",
    "k = 5  # Number of eigenvalues and eigenvectors to compute\n",
    "eigenvalues, eigenvectors = eigs(sparse_matrix, k=k)\n",
    "\n",
    "# Print the results\n",
    "print(\"Eigenvalues:\")\n",
    "print(eigenvalues)\n",
    "\n",
    "print(\"\\nEigenvectors:\")\n",
    "print(eigenvectors)\n"
   ]
  },
  {
   "cell_type": "code",
   "execution_count": null,
   "id": "4e0494a8-5362-4a57-aab0-cb4453f7d9fe",
   "metadata": {},
   "outputs": [],
   "source": []
  }
 ],
 "metadata": {
  "kernelspec": {
   "display_name": "Python 3 (ipykernel)",
   "language": "python",
   "name": "python3"
  },
  "language_info": {
   "codemirror_mode": {
    "name": "ipython",
    "version": 3
   },
   "file_extension": ".py",
   "mimetype": "text/x-python",
   "name": "python",
   "nbconvert_exporter": "python",
   "pygments_lexer": "ipython3",
   "version": "3.12.4"
  }
 },
 "nbformat": 4,
 "nbformat_minor": 5
}
